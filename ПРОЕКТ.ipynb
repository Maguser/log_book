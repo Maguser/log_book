{
 "cells": [
  {
   "cell_type": "code",
   "execution_count": 1,
   "id": "e340f8d3",
   "metadata": {},
   "outputs": [],
   "source": [
    "import math\n",
    "import pandas as pd\n",
    "import numpy as np\n",
    "from sympy import *\n",
    "import random"
   ]
  },
  {
   "cell_type": "markdown",
   "id": "4539345f",
   "metadata": {},
   "source": [
    "Формула 1 / (1 + x) Где x в анг   \n",
    "Конвертер https://alvin-almazov.ru/calculator/odds-converter/  \n",
    "Честный коэф  \n",
    "https://alvin-almazov.ru/calculator/bookmaker-margin/  \n",
    "На данный момент порог 1.07-1.08-1.09"
   ]
  },
  {
   "cell_type": "code",
   "execution_count": 55,
   "id": "6e03e16b",
   "metadata": {},
   "outputs": [],
   "source": [
    "# Вероятность букмекера что фаворит победит\n",
    "x = 1/5\n",
    "alpha = 1\n",
    "beta = 1"
   ]
  },
  {
   "cell_type": "code",
   "execution_count": 56,
   "id": "13aedb58",
   "metadata": {},
   "outputs": [
    {
     "name": "stdout",
     "output_type": "stream",
     "text": [
      "Вероятность букмекера что фаворит выиграет: 83%\n"
     ]
    }
   ],
   "source": [
    "K = 1/(1+(beta*(x))**(alpha))*100\n",
    "print(f'Вероятность букмекера что фаворит выиграет: {round(K)}%')"
   ]
  },
  {
   "cell_type": "code",
   "execution_count": 57,
   "id": "cd688ebe",
   "metadata": {},
   "outputs": [],
   "source": [
    "# 2016-21 years\n",
    "x = x\n",
    "alpha =  1.29\n",
    "beta = 1.75"
   ]
  },
  {
   "cell_type": "code",
   "execution_count": 58,
   "id": "6e50e09e",
   "metadata": {},
   "outputs": [],
   "source": [
    "# test\n",
    "x = x\n",
    "alpha =  1.29\n",
    "beta = 1.75"
   ]
  },
  {
   "cell_type": "code",
   "execution_count": 59,
   "id": "33d880d8",
   "metadata": {},
   "outputs": [],
   "source": [
    "# Вероятность моя, что фаворит победит с коэф из книги\n",
    "# x = x\n",
    "# alpha_ =  1.16\n",
    "# beta_ = 1.25"
   ]
  },
  {
   "cell_type": "code",
   "execution_count": 60,
   "id": "7bcb6492",
   "metadata": {},
   "outputs": [
    {
     "name": "stdout",
     "output_type": "stream",
     "text": [
      "Вероятность моя, что фаворит выиграет: 79%\n"
     ]
    }
   ],
   "source": [
    "K_pred = 1/(1+(beta*(x))**(alpha))*100\n",
    "print(f'Вероятность моя, что фаворит выиграет: {round(K_pred)}%')"
   ]
  },
  {
   "cell_type": "code",
   "execution_count": 185,
   "id": "d1b7a8ef",
   "metadata": {},
   "outputs": [],
   "source": [
    "# Критерий Келли\n",
    "# С – размер ставки (% от банка).\n",
    "# Кф – коэффициент исхода.\n",
    "# В – вероятность исхода, определяемая игроком (от 0.1 до 1).\n",
    "# C = (Кф * В – 1) / (Кф – 1) * 100"
   ]
  },
  {
   "cell_type": "code",
   "execution_count": 22,
   "id": "c4465715",
   "metadata": {},
   "outputs": [],
   "source": [
    "def C_c ():\n",
    "    koef = float(input(\"Ввести средний коэффициент букмекера \"))\n",
    "    B = float(input(\"Ввести расчитанный выше процент уверенности  \"))\n",
    "    bank = int(input(\"Ввести размер банка \"))\n",
    "    print('Размер ставки')\n",
    "    percent =  (koef * B - 1) / (koef - 1)\n",
    "    return round(percent * bank, 0)"
   ]
  },
  {
   "cell_type": "code",
   "execution_count": 23,
   "id": "92cfcb55",
   "metadata": {},
   "outputs": [
    {
     "name": "stdout",
     "output_type": "stream",
     "text": [
      "Ввести средний коэффициент букмекера 1.09\n",
      "Ввести расчитанный выше процент уверенности  0.79\n",
      "Ввести размер банка 13500\n",
      "Размер ставки\n"
     ]
    },
    {
     "data": {
      "text/plain": [
       "-20835.0"
      ]
     },
     "execution_count": 23,
     "metadata": {},
     "output_type": "execute_result"
    }
   ],
   "source": [
    "C_c()"
   ]
  },
  {
   "cell_type": "markdown",
   "id": "da43d5cf",
   "metadata": {},
   "source": [
    "\n",
    "### Логистическая регрессия для построения модели подсчета коэф alpha beta"
   ]
  },
  {
   "cell_type": "markdown",
   "id": "8d844645",
   "metadata": {},
   "source": [
    "Подбор коэф по классической формуле логита взято из Essential Math 284 p."
   ]
  },
  {
   "cell_type": "markdown",
   "id": "09217bb6",
   "metadata": {},
   "source": [
    "y = 1 / 1. 0 + e−(β0+β1x)"
   ]
  },
  {
   "cell_type": "code",
   "execution_count": 2,
   "id": "b2edbf9d",
   "metadata": {},
   "outputs": [],
   "source": [
    "# #points = list(pd.read_excel(\"Ставки_теннис.xlsx\", sheet_name = 'Ставки расчет' ).itertuples())\n",
    "# points = list(pd.read_excel(\"tennis1819.xlsx\", sheet_name = '1' ).itertuples())\n",
    "# b1, b0, i, n = symbols('b1 b0 i n')\n",
    "# x, y = symbols('x y', cls=Function)\n",
    "# joint_likelihood = Sum(log((1.0 / (1.0 + exp(-(b0 + b1 * x(i))))) ** y(i) \\\n",
    "# * (1.0 - (1.0 / (1.0 + exp(-(b0 + b1 * x(i)))))) ** (1 - y(i))), (i, 0,\n",
    "# n))\n",
    "# # Partial derivative for m, with points substituted\n",
    "# d_b1 = diff(joint_likelihood, b1) \\\n",
    "# .subs(n, len(points) - 1).doit() \\\n",
    "# .replace(x, lambda i: points[i].x) \\\n",
    "# .replace(y, lambda i: points[i].y)\n",
    "# # Partial derivative for m, with points substituted\n",
    "# d_b0 = diff(joint_likelihood, b0) \\\n",
    "# .subs(n, len(points) - 1).doit() \\\n",
    "# .replace(x, lambda i: points[i].x) \\\n",
    "# .replace(y, lambda i: points[i].y)\n",
    "# # compile using lambdify for faster computation\n",
    "# d_b1 = lambdify([b1, b0], d_b1)\n",
    "# d_b0 = lambdify([b1, b0], d_b0)\n",
    "# # Perform Gradient Descent\n",
    "# b1 = 0.1\n",
    "# b0 = 0.1\n",
    "# L = .01\n",
    "# for j in range(1000):\n",
    "#     b1 += d_b1(b1, b0) * L\n",
    "#     b0 += d_b0(b1, b0) * L\n",
    "# print(b1, b0)"
   ]
  },
  {
   "cell_type": "markdown",
   "id": "80fd5caf",
   "metadata": {},
   "source": [
    "Алгоритм отработал"
   ]
  },
  {
   "cell_type": "code",
   "execution_count": 154,
   "id": "5a613b2c",
   "metadata": {},
   "outputs": [],
   "source": [
    "# #points = list(pd.read_csv(\"Ставки расчет.csv\").itertuples())\n",
    "# points = list(pd.read_excel(\"tennis1819.xlsx\", sheet_name = '1' ).itertuples())\n",
    "# b1, b0, i, n = symbols('b1 b0 i n')\n",
    "# x, y = symbols('x y', cls=Function)\n",
    "# joint_likelihood = Sum(log((1.0 / (1.0 + (x(i))*b0**(b1))) ** y(i) \\\n",
    "# * (1.0 - (1.0 / (1.0 + (x(i))*b0**(b1)))) ** (1 - y(i))), (i, 0,\n",
    "# n))\n",
    "# # Partial derivative for m, with points substituted\n",
    "# d_b1 = diff(joint_likelihood, b1) \\\n",
    "# .subs(n, len(points) - 1).doit() \\\n",
    "# .replace(x, lambda i: points[i].x) \\\n",
    "# .replace(y, lambda i: points[i].y)\n",
    "# # Partial derivative for m, with points substituted\n",
    "# d_b0 = diff(joint_likelihood, b0) \\\n",
    "# .subs(n, len(points) - 1).doit() \\\n",
    "# .replace(x, lambda i: points[i].x) \\\n",
    "# .replace(y, lambda i: points[i].y)\n",
    "# # compile using lambdify for faster computation\n",
    "# d_b1 = lambdify([b1, b0], d_b1)\n",
    "# d_b0 = lambdify([b1, b0], d_b0)\n",
    "# # Perform Gradient Descent\n",
    "# b1 = 1\n",
    "# b0 = 1\n",
    "# L = .01\n",
    "# for j in range(10_000):\n",
    "#     b1 += d_b1(b1, b0) * L\n",
    "#     b0 += d_b0(b1, b0) * L\n",
    "# print(b1, b0)"
   ]
  },
  {
   "cell_type": "code",
   "execution_count": 7,
   "id": "55b5d4b0",
   "metadata": {},
   "outputs": [],
   "source": [
    "   ######  Обозначения #####\n",
    "#  b0 = beta \n",
    "#  b1 = alpha\n",
    "# x = x"
   ]
  },
  {
   "cell_type": "code",
   "execution_count": 155,
   "id": "40ef50bd",
   "metadata": {},
   "outputs": [],
   "source": [
    "def logistic_K(alpha, beta, x):\n",
    "    p = 1/(1+(beta*x)**(alpha))*100\n",
    "    return p"
   ]
  },
  {
   "cell_type": "markdown",
   "id": "e4b215a0",
   "metadata": {},
   "source": [
    "Проверять по коду выше чтобы не было сильной разницы"
   ]
  },
  {
   "cell_type": "markdown",
   "id": "bb5ac4f0",
   "metadata": {},
   "source": [
    "### След этап сбор данных прошлых матчей для подсчета коэф"
   ]
  },
  {
   "cell_type": "markdown",
   "id": "0195725c",
   "metadata": {},
   "source": [
    "Источник: https://www.tennisexplorer.com/picks/archive/?month=May-2021\n"
   ]
  },
  {
   "cell_type": "markdown",
   "id": "f2c1d3fc",
   "metadata": {},
   "source": [
    "Собрал янв21-янв22 в Ставки.csv  \n",
    "\n",
    "Сбор данных 2018-19-20-21 год  \n",
    "Сбор данных 2017-16 без учета маржы (как гипотеза)  \n",
    "Переделать все данные без маржи"
   ]
  },
  {
   "cell_type": "code",
   "execution_count": 2,
   "id": "1a6be51f",
   "metadata": {},
   "outputs": [
    {
     "data": {
      "text/plain": [
       "(2648, 3)"
      ]
     },
     "execution_count": 2,
     "metadata": {},
     "output_type": "execute_result"
    }
   ],
   "source": [
    "data = pd.read_excel('tennis1819.xlsx')\n",
    "data.shape"
   ]
  },
  {
   "cell_type": "code",
   "execution_count": 2,
   "id": "c2293eb3",
   "metadata": {},
   "outputs": [
    {
     "name": "stdout",
     "output_type": "stream",
     "text": [
      "0.0 1.0\n"
     ]
    }
   ],
   "source": [
    "# points = list(pd.read_excel(\"Ставки_теннис.xlsx\", sheet_name = 'Ставки расчет' ).itertuples())\n",
    "points = list(pd.read_excel(\"tennis1819.xlsx\", sheet_name = '2').itertuples())\n",
    "b1, b0, i, n = symbols('b1 b0 i n')\n",
    "x, y = symbols('x y', cls=Function)\n",
    "joint_likelihood = Sum(log((1.0 / (1.0 + (x(i))*(b0**(b1)))) ** y(i) \\\n",
    "* (1.0 - (1.0 / (1.0 + (x(i))*(b0**(b1))))) ** (1 - y(i))), (i, 0,\n",
    "n))\n",
    "# Partial derivative for m, with points substituted\n",
    "d_b1 = diff(joint_likelihood, b1) \\\n",
    ".subs(n, len(points) - 1).doit() \\\n",
    ".replace(x, lambda i: points[i].x) \\\n",
    ".replace(y, lambda i: points[i].y)\n",
    "# Partial derivative for m, with points substituted\n",
    "d_b0 = diff(joint_likelihood, b0) \\\n",
    ".subs(n, len(points) - 1).doit() \\\n",
    ".replace(x, lambda i: points[i].x) \\\n",
    ".replace(y, lambda i: points[i].y)\n",
    "# compile using lambdify for faster computation\n",
    "d_b1 = lambdify([b1, b0], d_b1)\n",
    "d_b0 = lambdify([b1, b0], d_b0)\n",
    "# Perform Gradient Descent\n",
    "b1 = 0\n",
    "b0 = 1\n",
    "L = 0.0001\n",
    "for j in range(10_000):\n",
    "    b1 += d_b1(b1, b0) * L\n",
    "    b0 += d_b0(b1, b0) * L\n",
    "print(b1, b0)"
   ]
  },
  {
   "cell_type": "code",
   "execution_count": 52,
   "id": "f7263a86",
   "metadata": {},
   "outputs": [
    {
     "name": "stdout",
     "output_type": "stream",
     "text": [
      "1.2923554102295143 1.7592281127420586\n"
     ]
    }
   ],
   "source": [
    "# 6 years till bis 2021-2016\n",
    "# points = list(pd.read_excel(\"Ставки_теннис.xlsx\", sheet_name = 'Ставки расчет' ).itertuples())\n",
    "points = list(pd.read_csv(\"tennish2o.csv\").itertuples())\n",
    "b1, b0, i, n = symbols('b1 b0 i n')\n",
    "x, y = symbols('x y', cls=Function)\n",
    "joint_likelihood = Sum(log((1.0 / (1.0 + (x(i))*(b0**(b1)))) ** y(i) \\\n",
    "* (1.0 - (1.0 / (1.0 + (x(i))*(b0**(b1))))) ** (1 - y(i))), (i, 0,\n",
    "n))\n",
    "# Partial derivative for m, with points substituted\n",
    "d_b1 = diff(joint_likelihood, b1) \\\n",
    ".subs(n, len(points) - 1).doit() \\\n",
    ".replace(x, lambda i: points[i].x) \\\n",
    ".replace(y, lambda i: points[i].y)\n",
    "# Partial derivative for m, with points substituted\n",
    "d_b0 = diff(joint_likelihood, b0) \\\n",
    ".subs(n, len(points) - 1).doit() \\\n",
    ".replace(x, lambda i: points[i].x) \\\n",
    ".replace(y, lambda i: points[i].y)\n",
    "# compile using lambdify for faster computation\n",
    "d_b1 = lambdify([b1, b0], d_b1)\n",
    "d_b0 = lambdify([b1, b0], d_b0)\n",
    "# Perform Gradient Descent\n",
    "b1 = 1\n",
    "b0 = 1\n",
    "L = 0.0001\n",
    "for j in range(10000):\n",
    "    b1 += d_b1(b1, b0) * L\n",
    "    b0 += d_b0(b1, b0) * L\n",
    "print(b1, b0)"
   ]
  },
  {
   "cell_type": "markdown",
   "id": "ec56d4c7",
   "metadata": {},
   "source": [
    "Предсказание на февраль - часть апреля\n",
    "1. Предсказание букмекера\n",
    "2. Мое предсказание\n",
    "3. Использование критерия Келли для шансов банка\n",
    "4. Итог: минус 1700"
   ]
  },
  {
   "cell_type": "markdown",
   "id": "df4ba274",
   "metadata": {},
   "source": [
    "Эти коэф ужасны. Не превышают 20% т.е. не ставить никогда\n",
    "Два три пути:\n",
    "1. Использовать exp функцию \n",
    "2. Использовать готовые коэф по умолчанию\n",
    "3. Использовать другой датасет (есть вероятность неверной интерпретации ставок)"
   ]
  },
  {
   "cell_type": "markdown",
   "id": "0d476ede",
   "metadata": {},
   "source": [
    "Для банка использовать коэф букмекера и свой процент высчитанный по лог-рег"
   ]
  },
  {
   "cell_type": "markdown",
   "id": "cfc6e1e3",
   "metadata": {},
   "source": [
    "Коэф были черезчур оптимистичны. Выбрал начальные меньше (0.1). Если еще меньше то плохо (отриц)  \n",
    "Добавлять данные дальше - взять 2020 год. Готово  \n",
    "Сделал краулер - теперь можно собирать быстрее, 2019-2018 собрал обрабатываю\n",
    "\n"
   ]
  },
  {
   "cell_type": "markdown",
   "id": "00801058",
   "metadata": {},
   "source": [
    "В качестве эксперимента привожу модель из sklearn"
   ]
  },
  {
   "cell_type": "code",
   "execution_count": 65,
   "id": "a41a0b61",
   "metadata": {},
   "outputs": [],
   "source": [
    "from sklearn.model_selection import train_test_split\n",
    "from sklearn.preprocessing import StandardScaler\n",
    "from sklearn.linear_model import LogisticRegression\n",
    "from sklearn.pipeline import Pipeline\n",
    "from sklearn.metrics import roc_curve, roc_auc_score, classification_report, accuracy_score, confusion_matrix \n",
    "import seaborn as sns\n",
    "import matplotlib.pyplot as plt"
   ]
  },
  {
   "cell_type": "code",
   "execution_count": 67,
   "id": "788885aa",
   "metadata": {},
   "outputs": [],
   "source": [
    "#data = pd.read_excel(\"Ставки_теннис.xlsx\", sheet_name = 'Ставки расчет')\n",
    "data = pd.read_csv(\"tennish2o.csv\")"
   ]
  },
  {
   "cell_type": "code",
   "execution_count": 68,
   "id": "ad7800b2",
   "metadata": {},
   "outputs": [
    {
     "data": {
      "text/html": [
       "<div>\n",
       "<style scoped>\n",
       "    .dataframe tbody tr th:only-of-type {\n",
       "        vertical-align: middle;\n",
       "    }\n",
       "\n",
       "    .dataframe tbody tr th {\n",
       "        vertical-align: top;\n",
       "    }\n",
       "\n",
       "    .dataframe thead th {\n",
       "        text-align: right;\n",
       "    }\n",
       "</style>\n",
       "<table border=\"1\" class=\"dataframe\">\n",
       "  <thead>\n",
       "    <tr style=\"text-align: right;\">\n",
       "      <th></th>\n",
       "      <th>x</th>\n",
       "      <th>y</th>\n",
       "    </tr>\n",
       "  </thead>\n",
       "  <tbody>\n",
       "    <tr>\n",
       "      <th>0</th>\n",
       "      <td>0.74</td>\n",
       "      <td>1</td>\n",
       "    </tr>\n",
       "    <tr>\n",
       "      <th>1</th>\n",
       "      <td>0.31</td>\n",
       "      <td>0</td>\n",
       "    </tr>\n",
       "    <tr>\n",
       "      <th>2</th>\n",
       "      <td>0.85</td>\n",
       "      <td>1</td>\n",
       "    </tr>\n",
       "    <tr>\n",
       "      <th>3</th>\n",
       "      <td>0.20</td>\n",
       "      <td>0</td>\n",
       "    </tr>\n",
       "    <tr>\n",
       "      <th>4</th>\n",
       "      <td>0.74</td>\n",
       "      <td>1</td>\n",
       "    </tr>\n",
       "  </tbody>\n",
       "</table>\n",
       "</div>"
      ],
      "text/plain": [
       "      x  y\n",
       "0  0.74  1\n",
       "1  0.31  0\n",
       "2  0.85  1\n",
       "3  0.20  0\n",
       "4  0.74  1"
      ]
     },
     "execution_count": 68,
     "metadata": {},
     "output_type": "execute_result"
    }
   ],
   "source": [
    "data.head()"
   ]
  },
  {
   "cell_type": "code",
   "execution_count": 69,
   "id": "10e454e6",
   "metadata": {},
   "outputs": [],
   "source": [
    "X = data.drop(columns=['y'], axis=1) \n",
    "Y = data.y.values\n",
    "\n",
    "np.random.seed(22)\n",
    "X_train, X_test, y_train, y_test = train_test_split(X, Y)"
   ]
  },
  {
   "cell_type": "code",
   "execution_count": 70,
   "id": "7d31fddc",
   "metadata": {},
   "outputs": [
    {
     "data": {
      "text/plain": [
       "array([1, 0, 1, ..., 0, 1, 0], dtype=int64)"
      ]
     },
     "execution_count": 70,
     "metadata": {},
     "output_type": "execute_result"
    }
   ],
   "source": [
    "Y"
   ]
  },
  {
   "cell_type": "code",
   "execution_count": 71,
   "id": "4238be55",
   "metadata": {},
   "outputs": [
    {
     "data": {
      "text/plain": [
       "LogisticRegression(C=0.001, max_iter=10000)"
      ]
     },
     "execution_count": 71,
     "metadata": {},
     "output_type": "execute_result"
    }
   ],
   "source": [
    "model1 = LogisticRegression(max_iter=10000, penalty='l2', C=0.001)\n",
    "model1.fit(X_train, y_train)"
   ]
  },
  {
   "cell_type": "code",
   "execution_count": 72,
   "id": "810ffa07",
   "metadata": {},
   "outputs": [
    {
     "name": "stdout",
     "output_type": "stream",
     "text": [
      "Confusion matrix:\n",
      " [[1478  815]\n",
      " [ 698 1606]]\n",
      "Training AUC: 72.6963 %\n",
      "Training accuracy: 67.0872 %\n"
     ]
    }
   ],
   "source": [
    "y_train_hat = model1.predict(X_train)\n",
    "y_train_hat_probs = model1.predict_proba(X_train)[:,1]\n",
    "\n",
    "train_accuracy = accuracy_score(y_train, y_train_hat)*100\n",
    "train_auc_roc = roc_auc_score(y_train, y_train_hat_probs)*100\n",
    "\n",
    "print('Confusion matrix:\\n', confusion_matrix(y_train, y_train_hat))\n",
    "\n",
    "print('Training AUC: %.4f %%' % train_auc_roc)\n",
    "\n",
    "print('Training accuracy: %.4f %%' % train_accuracy)"
   ]
  },
  {
   "cell_type": "code",
   "execution_count": 73,
   "id": "3b31f14c",
   "metadata": {},
   "outputs": [
    {
     "name": "stdout",
     "output_type": "stream",
     "text": [
      "Confusion matrix:\n",
      " [[476 296]\n",
      " [215 546]]\n",
      "Testing AUC: 72.8165 %\n",
      "Testing accuracy: 66.6667 %\n"
     ]
    }
   ],
   "source": [
    "y_test_hat = model1.predict(X_test)\n",
    "y_test_hat_probs = model1.predict_proba(X_test)[:,1]\n",
    "\n",
    "test_accuracy = accuracy_score(y_test, y_test_hat)*100\n",
    "test_auc_roc = roc_auc_score(y_test, y_test_hat_probs)*100\n",
    "\n",
    "print('Confusion matrix:\\n', confusion_matrix(y_test, y_test_hat))\n",
    "\n",
    "print('Testing AUC: %.4f %%' % test_auc_roc)\n",
    "\n",
    "print('Testing accuracy: %.4f %%' % test_accuracy) "
   ]
  },
  {
   "cell_type": "code",
   "execution_count": 83,
   "id": "f24728bf",
   "metadata": {},
   "outputs": [
    {
     "data": {
      "text/plain": [
       "array([[0.48679831, 0.51320169]])"
      ]
     },
     "execution_count": 83,
     "metadata": {},
     "output_type": "execute_result"
    }
   ],
   "source": [
    "model1.predict_proba([[0.79]]) # честная уверенность букм."
   ]
  },
  {
   "cell_type": "code",
   "execution_count": 22,
   "id": "86f2da8b",
   "metadata": {},
   "outputs": [],
   "source": [
    "#Т.е. эта модель предсказывет 0 с вероятностью {}% и 1 с вероятностью {}"
   ]
  },
  {
   "cell_type": "code",
   "execution_count": 23,
   "id": "1c1da1cf",
   "metadata": {
    "scrolled": true
   },
   "outputs": [
    {
     "name": "stdout",
     "output_type": "stream",
     "text": [
      "[-0.56238194]\n"
     ]
    }
   ],
   "source": [
    "print(model1.coef_.flatten())"
   ]
  },
  {
   "cell_type": "code",
   "execution_count": 15,
   "id": "7944c37c",
   "metadata": {},
   "outputs": [
    {
     "name": "stdout",
     "output_type": "stream",
     "text": [
      "[1.27770581]\n"
     ]
    }
   ],
   "source": [
    "print(model1.intercept_.flatten())"
   ]
  },
  {
   "cell_type": "code",
   "execution_count": 16,
   "id": "21fbab7a",
   "metadata": {},
   "outputs": [
    {
     "data": {
      "text/plain": [
       "array([[-0.56238194]])"
      ]
     },
     "execution_count": 16,
     "metadata": {},
     "output_type": "execute_result"
    }
   ],
   "source": [
    "model1.coef_"
   ]
  },
  {
   "cell_type": "code",
   "execution_count": 59,
   "id": "38340103",
   "metadata": {},
   "outputs": [
    {
     "name": "stdout",
     "output_type": "stream",
     "text": [
      "Ввести средний коэффициент букмекера 1.6\n",
      "Ввести расчитанный выше процент уверенности  0.53\n",
      "Ввести размер банка 1000\n",
      "Размер ставки\n"
     ]
    },
    {
     "data": {
      "text/plain": [
       "-253.0"
      ]
     },
     "execution_count": 59,
     "metadata": {},
     "output_type": "execute_result"
    }
   ],
   "source": [
    "C_c()"
   ]
  },
  {
   "cell_type": "markdown",
   "id": "4a265774",
   "metadata": {},
   "source": [
    "### Футбол"
   ]
  },
  {
   "cell_type": "markdown",
   "id": "189a620a",
   "metadata": {},
   "source": [
    "##### Уравнение лог регрессии"
   ]
  },
  {
   "cell_type": "markdown",
   "id": "e38bb9ad",
   "metadata": {},
   "source": [
    "1.0/1.0 + x*b0**b1"
   ]
  },
  {
   "cell_type": "code",
   "execution_count": 85,
   "id": "6ceb71d3",
   "metadata": {},
   "outputs": [],
   "source": [
    "# На кого ставить\n",
    "# если разница > 0.4 на фаворита (хозяев)\n",
    "# если разница < 0.15 то ничья"
   ]
  },
  {
   "cell_type": "code",
   "execution_count": 2,
   "id": "5ae202e2",
   "metadata": {},
   "outputs": [],
   "source": [
    "def what_bet():\n",
    "    h = float(input(\"Введите честный коэф хозяев(фаворита) \"))\n",
    "    g = float(input(\"Введите честный коэф гостей(аутсайдера) \"))\n",
    "    h_ = round((100/h/100),2)\n",
    "    g_ = round((100/g/100),2)\n",
    "    delta = round((h_ - g_), 2)\n",
    "    print(\"Разница\", delta)\n",
    "    if delta > 0.4:\n",
    "        print(\"Ставить на хозяев\")\n",
    "    elif delta < 0.15:\n",
    "        print(\"Ставить на ничью\")\n",
    "    else: print(\"Не ставить\")"
   ]
  },
  {
   "cell_type": "code",
   "execution_count": 5,
   "id": "0afedc03",
   "metadata": {},
   "outputs": [
    {
     "name": "stdout",
     "output_type": "stream",
     "text": [
      "Введите честный коэф хозяев(фаворита) 1.26\n",
      "Введите честный коэф гостей(аутсайдера) 17.09\n",
      "Разница 0.73\n",
      "Ставить на хозяев\n"
     ]
    }
   ],
   "source": [
    "what_bet()"
   ]
  },
  {
   "cell_type": "code",
   "execution_count": 4,
   "id": "30d04ff2",
   "metadata": {},
   "outputs": [],
   "source": [
    "def C_c ():\n",
    "    koef = float(input(\"Ввести обычный коэффициент букмекера \"))\n",
    "    B = float(input(\"Ввести расчитанный выше процент уверенности  \"))\n",
    "    bank = int(input(\"Ввести размер банка \"))\n",
    "    print('Размер ставки')\n",
    "    percent =  (koef * B - 1) / (koef - 1)\n",
    "    return round(percent * bank, 0)"
   ]
  },
  {
   "cell_type": "code",
   "execution_count": 5,
   "id": "021ac489",
   "metadata": {},
   "outputs": [],
   "source": [
    "#   Если ничья мой прогноз 34,7% если фаворит, то 75%\n",
    "def percent_book():\n",
    "    p = float(input(\"Ввести честный коэффициент букмекера \"))\n",
    "    p_ = round((100/p/100),2)\n",
    "    print('Процент уверенности букмекера ', p_, 'а мой процент 0.35 на ничью и 0.75 на фаворита')"
   ]
  },
  {
   "cell_type": "code",
   "execution_count": 6,
   "id": "6f164d13",
   "metadata": {},
   "outputs": [
    {
     "name": "stdout",
     "output_type": "stream",
     "text": [
      "Ввести честный коэффициент букмекера 1.66\n",
      "Процент уверенности букмекера  0.6 а мой процент 0.35 на ничью и 0.75 на фаворита\n"
     ]
    }
   ],
   "source": [
    "percent_book()"
   ]
  },
  {
   "cell_type": "code",
   "execution_count": null,
   "id": "40aa0ccb",
   "metadata": {},
   "outputs": [],
   "source": [
    "# мой процент уверенности для критерия Келли\n",
    "# вероятность ничьей устанавливается равной 0,355 – 0,25* (p – q)\n"
   ]
  },
  {
   "cell_type": "code",
   "execution_count": 8,
   "id": "b0bebe1a",
   "metadata": {},
   "outputs": [],
   "source": [
    "# P = 1 / (1+(p/1-p) **(-1.06))\n",
    "\n",
    "def P_fav():\n",
    "    p = float(input('Enter p bookmaker '))\n",
    "    p_ = p / (1-p)\n",
    "    power = pow(p_, (-1.06))\n",
    "    znam = 1 + 0.961*power\n",
    "    prob = round((1/znam),2)\n",
    "    print('Мой процент уверенности в победе фаворита: ',prob)"
   ]
  },
  {
   "cell_type": "code",
   "execution_count": 9,
   "id": "784d984f",
   "metadata": {},
   "outputs": [
    {
     "name": "stdout",
     "output_type": "stream",
     "text": [
      "Enter p bookmaker 0.6\n",
      "Мой процент уверенности в победе фаворита:  0.62\n"
     ]
    }
   ],
   "source": [
    "P_fav()"
   ]
  },
  {
   "cell_type": "code",
   "execution_count": 76,
   "id": "cad5714d",
   "metadata": {},
   "outputs": [],
   "source": [
    "def P_x():\n",
    "    p = float(input('Enter p bookmaker P1 '))\n",
    "    q = float(input('Enter p bookmaker P2 '))\n",
    "    p_ = p - q\n",
    "    prob = 0.355 - 0.25 * p_\n",
    "    print('Мой процент уверенности в ничьей: ', prob)"
   ]
  },
  {
   "cell_type": "code",
   "execution_count": 77,
   "id": "1bfd4741",
   "metadata": {},
   "outputs": [
    {
     "name": "stdout",
     "output_type": "stream",
     "text": [
      "Enter p bookmaker P1 2.93\n",
      "Enter p bookmaker P2 2.88\n",
      "Мой процент уверенности в ничьей:  0.3424999999999999\n"
     ]
    }
   ],
   "source": [
    "P_x()"
   ]
  },
  {
   "cell_type": "code",
   "execution_count": 11,
   "id": "102e046a",
   "metadata": {},
   "outputs": [
    {
     "name": "stdout",
     "output_type": "stream",
     "text": [
      "Ввести обычный коэффициент букмекера 1.61\n",
      "Ввести расчитанный выше процент уверенности  0.62\n",
      "Ввести размер банка 5000\n",
      "Размер ставки\n"
     ]
    },
    {
     "data": {
      "text/plain": [
       "-15.0"
      ]
     },
     "execution_count": 11,
     "metadata": {},
     "output_type": "execute_result"
    }
   ],
   "source": [
    "C_c ()"
   ]
  },
  {
   "cell_type": "code",
   "execution_count": 112,
   "id": "02463c19",
   "metadata": {},
   "outputs": [],
   "source": [
    "# работа с формулой логистической регрессии с нуля - все у меня правильно"
   ]
  },
  {
   "cell_type": "code",
   "execution_count": 93,
   "id": "450b0c36",
   "metadata": {},
   "outputs": [],
   "source": [
    "data = pd.read_excel('tennis1819.xlsx')"
   ]
  },
  {
   "cell_type": "code",
   "execution_count": 95,
   "id": "3727b8d8",
   "metadata": {},
   "outputs": [],
   "source": [
    "patient_data = data.drop(columns=['Unnamed: 0'], axis=1)"
   ]
  },
  {
   "cell_type": "code",
   "execution_count": 96,
   "id": "095d4fb3",
   "metadata": {},
   "outputs": [],
   "source": [
    "patient_data =  patient_data.itertuples()"
   ]
  },
  {
   "cell_type": "code",
   "execution_count": 97,
   "id": "e8917ce6",
   "metadata": {},
   "outputs": [],
   "source": [
    "b0 = 1\n",
    "b1 = 1"
   ]
  },
  {
   "cell_type": "code",
   "execution_count": 105,
   "id": "796605cd",
   "metadata": {},
   "outputs": [],
   "source": [
    "def K(x):\n",
    "    p = 1/(1+(b0*x)**(b1))\n",
    "    return p"
   ]
  },
  {
   "cell_type": "code",
   "execution_count": 106,
   "id": "9d351428",
   "metadata": {},
   "outputs": [
    {
     "data": {
      "text/plain": [
       "0.9090909090909091"
      ]
     },
     "execution_count": 106,
     "metadata": {},
     "output_type": "execute_result"
    }
   ],
   "source": [
    "K(1/10)"
   ]
  },
  {
   "cell_type": "code",
   "execution_count": 107,
   "id": "de6dd3d8",
   "metadata": {},
   "outputs": [],
   "source": [
    "joint_likelihood = 1.0"
   ]
  },
  {
   "cell_type": "code",
   "execution_count": 108,
   "id": "7a75b6af",
   "metadata": {},
   "outputs": [],
   "source": [
    "for p in patient_data:\n",
    "    if p.y == 1.0:\n",
    "        joint_likelihood *= K(p.x)\n",
    "    elif p.y == 0.0:\n",
    "        joint_likelihood *= (1.0 - K(p.x))"
   ]
  },
  {
   "cell_type": "code",
   "execution_count": 109,
   "id": "785e6d24",
   "metadata": {},
   "outputs": [
    {
     "name": "stdout",
     "output_type": "stream",
     "text": [
      "1.0\n"
     ]
    }
   ],
   "source": [
    "print(joint_likelihood)"
   ]
  },
  {
   "cell_type": "markdown",
   "id": "6f1183a6",
   "metadata": {},
   "source": [
    "#### Развернем кластер h2o и применим логистическую регрессию к моим данным"
   ]
  },
  {
   "cell_type": "code",
   "execution_count": 20,
   "id": "7660b58f",
   "metadata": {},
   "outputs": [],
   "source": [
    "import h2o"
   ]
  },
  {
   "cell_type": "code",
   "execution_count": 21,
   "id": "561f8f82",
   "metadata": {},
   "outputs": [
    {
     "name": "stdout",
     "output_type": "stream",
     "text": [
      "Checking whether there is an H2O instance running at http://localhost:54321 ..... not found.\n",
      "Attempting to start a local H2O server...\n",
      "; Java HotSpot(TM) 64-Bit Server VM (build 25.311-b11, mixed mode)\n",
      "  Starting server from C:\\Users\\e.kirichenko\\Anaconda3\\Lib\\site-packages\\h2o\\backend\\bin\\h2o.jar\n",
      "  Ice root: C:\\Users\\E7D3E~1.KIR\\AppData\\Local\\Temp\\tmpd11q7mfz\n",
      "  JVM stdout: C:\\Users\\E7D3E~1.KIR\\AppData\\Local\\Temp\\tmpd11q7mfz\\h2o_e_kirichenko_started_from_python.out\n",
      "  JVM stderr: C:\\Users\\E7D3E~1.KIR\\AppData\\Local\\Temp\\tmpd11q7mfz\\h2o_e_kirichenko_started_from_python.err\n",
      "  Server is running at http://127.0.0.1:54321\n",
      "Connecting to H2O server at http://127.0.0.1:54321 ... successful.\n",
      "Warning: Your H2O cluster version is too old (5 months and 25 days)!Please download and install the latest version from http://h2o.ai/download/\n"
     ]
    },
    {
     "data": {
      "text/html": [
       "<div style=\"overflow:auto\"><table style=\"width:50%\"><tr><td>H2O_cluster_uptime:</td>\n",
       "<td>04 secs</td></tr>\n",
       "<tr><td>H2O_cluster_timezone:</td>\n",
       "<td>Europe/Moscow</td></tr>\n",
       "<tr><td>H2O_data_parsing_timezone:</td>\n",
       "<td>UTC</td></tr>\n",
       "<tr><td>H2O_cluster_version:</td>\n",
       "<td>3.34.0.7</td></tr>\n",
       "<tr><td>H2O_cluster_version_age:</td>\n",
       "<td>5 months and 25 days !!!</td></tr>\n",
       "<tr><td>H2O_cluster_name:</td>\n",
       "<td>H2O_from_python_e_kirichenko_pm09g3</td></tr>\n",
       "<tr><td>H2O_cluster_total_nodes:</td>\n",
       "<td>1</td></tr>\n",
       "<tr><td>H2O_cluster_free_memory:</td>\n",
       "<td>7.103 Gb</td></tr>\n",
       "<tr><td>H2O_cluster_total_cores:</td>\n",
       "<td>8</td></tr>\n",
       "<tr><td>H2O_cluster_allowed_cores:</td>\n",
       "<td>8</td></tr>\n",
       "<tr><td>H2O_cluster_status:</td>\n",
       "<td>locked, healthy</td></tr>\n",
       "<tr><td>H2O_connection_url:</td>\n",
       "<td>http://127.0.0.1:54321</td></tr>\n",
       "<tr><td>H2O_connection_proxy:</td>\n",
       "<td>{\"http\": null, \"https\": null}</td></tr>\n",
       "<tr><td>H2O_internal_security:</td>\n",
       "<td>False</td></tr>\n",
       "<tr><td>H2O_API_Extensions:</td>\n",
       "<td>Amazon S3, Algos, AutoML, Core V3, TargetEncoder, Core V4</td></tr>\n",
       "<tr><td>Python_version:</td>\n",
       "<td>3.9.7 final</td></tr></table></div>"
      ],
      "text/plain": [
       "--------------------------  ---------------------------------------------------------\n",
       "H2O_cluster_uptime:         04 secs\n",
       "H2O_cluster_timezone:       Europe/Moscow\n",
       "H2O_data_parsing_timezone:  UTC\n",
       "H2O_cluster_version:        3.34.0.7\n",
       "H2O_cluster_version_age:    5 months and 25 days !!!\n",
       "H2O_cluster_name:           H2O_from_python_e_kirichenko_pm09g3\n",
       "H2O_cluster_total_nodes:    1\n",
       "H2O_cluster_free_memory:    7.103 Gb\n",
       "H2O_cluster_total_cores:    8\n",
       "H2O_cluster_allowed_cores:  8\n",
       "H2O_cluster_status:         locked, healthy\n",
       "H2O_connection_url:         http://127.0.0.1:54321\n",
       "H2O_connection_proxy:       {\"http\": null, \"https\": null}\n",
       "H2O_internal_security:      False\n",
       "H2O_API_Extensions:         Amazon S3, Algos, AutoML, Core V3, TargetEncoder, Core V4\n",
       "Python_version:             3.9.7 final\n",
       "--------------------------  ---------------------------------------------------------"
      ]
     },
     "metadata": {},
     "output_type": "display_data"
    }
   ],
   "source": [
    "h2o.init(nthreads=-1, max_mem_size=8)"
   ]
  },
  {
   "cell_type": "code",
   "execution_count": 38,
   "id": "af6f0173",
   "metadata": {},
   "outputs": [
    {
     "name": "stdout",
     "output_type": "stream",
     "text": [
      "Parse progress: |████████████████████████████████████████████████████████████████| (done) 100%\n"
     ]
    }
   ],
   "source": [
    "\n",
    "h2o_data = h2o.upload_file('tennish2o.csv')"
   ]
  },
  {
   "cell_type": "code",
   "execution_count": 39,
   "id": "6e2f157b",
   "metadata": {},
   "outputs": [
    {
     "name": "stdout",
     "output_type": "stream",
     "text": [
      "Rows:6130\n",
      "Cols:2\n",
      "\n",
      "\n"
     ]
    },
    {
     "data": {
      "text/html": [
       "<table>\n",
       "<thead>\n",
       "<tr><th>       </th><th>x                  </th><th>y                 </th></tr>\n",
       "</thead>\n",
       "<tbody>\n",
       "<tr><td>type   </td><td>real               </td><td>int               </td></tr>\n",
       "<tr><td>mins   </td><td>0.04               </td><td>0.0               </td></tr>\n",
       "<tr><td>mean   </td><td>0.5289853181076659 </td><td>0.5               </td></tr>\n",
       "<tr><td>maxs   </td><td>0.99               </td><td>1.0               </td></tr>\n",
       "<tr><td>sigma  </td><td>0.21249026109136587</td><td>0.5000407880247039</td></tr>\n",
       "<tr><td>zeros  </td><td>0                  </td><td>3065              </td></tr>\n",
       "<tr><td>missing</td><td>0                  </td><td>0                 </td></tr>\n",
       "<tr><td>0      </td><td>0.74               </td><td>1.0               </td></tr>\n",
       "<tr><td>1      </td><td>0.31               </td><td>0.0               </td></tr>\n",
       "<tr><td>2      </td><td>0.85               </td><td>1.0               </td></tr>\n",
       "<tr><td>3      </td><td>0.2                </td><td>0.0               </td></tr>\n",
       "<tr><td>4      </td><td>0.74               </td><td>1.0               </td></tr>\n",
       "<tr><td>5      </td><td>0.32               </td><td>0.0               </td></tr>\n",
       "<tr><td>6      </td><td>0.5                </td><td>1.0               </td></tr>\n",
       "<tr><td>7      </td><td>0.57               </td><td>0.0               </td></tr>\n",
       "<tr><td>8      </td><td>0.38               </td><td>1.0               </td></tr>\n",
       "<tr><td>9      </td><td>0.68               </td><td>0.0               </td></tr>\n",
       "</tbody>\n",
       "</table>"
      ]
     },
     "metadata": {},
     "output_type": "display_data"
    }
   ],
   "source": [
    "h2o_data.describe()"
   ]
  },
  {
   "cell_type": "code",
   "execution_count": 40,
   "id": "2fa3359f",
   "metadata": {},
   "outputs": [],
   "source": [
    "dependent = 'y'"
   ]
  },
  {
   "cell_type": "code",
   "execution_count": 41,
   "id": "d1dadf94",
   "metadata": {},
   "outputs": [],
   "source": [
    "predictors = list(h2o_data.columns)"
   ]
  },
  {
   "cell_type": "code",
   "execution_count": 42,
   "id": "699a91f2",
   "metadata": {},
   "outputs": [
    {
     "data": {
      "text/plain": [
       "['x', 'y']"
      ]
     },
     "execution_count": 42,
     "metadata": {},
     "output_type": "execute_result"
    }
   ],
   "source": [
    "predictors"
   ]
  },
  {
   "cell_type": "code",
   "execution_count": 43,
   "id": "1115e476",
   "metadata": {},
   "outputs": [],
   "source": [
    "predictors.remove(dependent)"
   ]
  },
  {
   "cell_type": "code",
   "execution_count": 44,
   "id": "21f90713",
   "metadata": {},
   "outputs": [],
   "source": [
    "from h2o.estimators.glm import H2OGeneralizedLinearEstimator"
   ]
  },
  {
   "cell_type": "code",
   "execution_count": 45,
   "id": "cdbbdd1f",
   "metadata": {},
   "outputs": [],
   "source": [
    "model = H2OGeneralizedLinearEstimator(family='binomial')"
   ]
  },
  {
   "cell_type": "code",
   "execution_count": 46,
   "id": "71aa195d",
   "metadata": {},
   "outputs": [
    {
     "name": "stdout",
     "output_type": "stream",
     "text": [
      "glm Model Build progress: |"
     ]
    },
    {
     "name": "stderr",
     "output_type": "stream",
     "text": [
      "C:\\Users\\e.kirichenko\\Anaconda3\\lib\\site-packages\\h2o\\estimators\\estimator_base.py:206: RuntimeWarning: Response is numeric, so the regression model will be trained. However, the cardinality is equaled to two, so if you want to train a classification model, convert the response column to categorical before training.\n",
      "  warnings.warn(mesg[\"message\"], RuntimeWarning)\n"
     ]
    },
    {
     "name": "stdout",
     "output_type": "stream",
     "text": [
      "██████████████████████████████████████████████████████| (done) 100%\n",
      "Model Details\n",
      "=============\n",
      "H2OGeneralizedLinearEstimator :  Generalized Linear Modeling\n",
      "Model Key:  GLM_model_python_1655297017438_1\n",
      "\n",
      "\n",
      "GLM Model: summary\n"
     ]
    },
    {
     "data": {
      "text/html": [
       "<div>\n",
       "<style scoped>\n",
       "    .dataframe tbody tr th:only-of-type {\n",
       "        vertical-align: middle;\n",
       "    }\n",
       "\n",
       "    .dataframe tbody tr th {\n",
       "        vertical-align: top;\n",
       "    }\n",
       "\n",
       "    .dataframe thead th {\n",
       "        text-align: right;\n",
       "    }\n",
       "</style>\n",
       "<table border=\"1\" class=\"dataframe\">\n",
       "  <thead>\n",
       "    <tr style=\"text-align: right;\">\n",
       "      <th></th>\n",
       "      <th></th>\n",
       "      <th>family</th>\n",
       "      <th>link</th>\n",
       "      <th>regularization</th>\n",
       "      <th>number_of_predictors_total</th>\n",
       "      <th>number_of_active_predictors</th>\n",
       "      <th>number_of_iterations</th>\n",
       "      <th>training_frame</th>\n",
       "    </tr>\n",
       "  </thead>\n",
       "  <tbody>\n",
       "    <tr>\n",
       "      <th>0</th>\n",
       "      <td></td>\n",
       "      <td>binomial</td>\n",
       "      <td>logit</td>\n",
       "      <td>Elastic Net (alpha = 0.5, lambda = 3.95E-4 )</td>\n",
       "      <td>1</td>\n",
       "      <td>1</td>\n",
       "      <td>3</td>\n",
       "      <td>Key_Frame__upload_a470369a6eda41ed5c6c7fd762ac4b22.hex</td>\n",
       "    </tr>\n",
       "  </tbody>\n",
       "</table>\n",
       "</div>"
      ],
      "text/plain": [
       "       family   link                                regularization  \\\n",
       "0    binomial  logit  Elastic Net (alpha = 0.5, lambda = 3.95E-4 )   \n",
       "\n",
       "   number_of_predictors_total number_of_active_predictors  \\\n",
       "0                           1                           1   \n",
       "\n",
       "   number_of_iterations  \\\n",
       "0                     3   \n",
       "\n",
       "                                           training_frame  \n",
       "0  Key_Frame__upload_a470369a6eda41ed5c6c7fd762ac4b22.hex  "
      ]
     },
     "metadata": {},
     "output_type": "display_data"
    },
    {
     "name": "stdout",
     "output_type": "stream",
     "text": [
      "\n",
      "\n",
      "ModelMetricsBinomialGLM: glm\n",
      "** Reported on train data. **\n",
      "\n",
      "MSE: 0.2111775210275778\n",
      "RMSE: 0.4595405542795737\n",
      "LogLoss: 0.6105404764638875\n",
      "Null degrees of freedom: 6129\n",
      "Residual degrees of freedom: 6128\n",
      "Null deviance: 8497.984433665782\n",
      "Residual deviance: 7485.226241447261\n",
      "AIC: 7489.226241447261\n",
      "AUC: 0.7270312346148831\n",
      "AUCPR: 0.7169451463443396\n",
      "Gini: 0.4540624692297661\n",
      "\n",
      "Confusion Matrix (Act/Pred) for max f1 @ threshold = 0.3398673334382683: \n"
     ]
    },
    {
     "data": {
      "text/html": [
       "<div>\n",
       "<style scoped>\n",
       "    .dataframe tbody tr th:only-of-type {\n",
       "        vertical-align: middle;\n",
       "    }\n",
       "\n",
       "    .dataframe tbody tr th {\n",
       "        vertical-align: top;\n",
       "    }\n",
       "\n",
       "    .dataframe thead th {\n",
       "        text-align: right;\n",
       "    }\n",
       "</style>\n",
       "<table border=\"1\" class=\"dataframe\">\n",
       "  <thead>\n",
       "    <tr style=\"text-align: right;\">\n",
       "      <th></th>\n",
       "      <th></th>\n",
       "      <th>0</th>\n",
       "      <th>1</th>\n",
       "      <th>Error</th>\n",
       "      <th>Rate</th>\n",
       "    </tr>\n",
       "  </thead>\n",
       "  <tbody>\n",
       "    <tr>\n",
       "      <th>0</th>\n",
       "      <td>0</td>\n",
       "      <td>1216.0</td>\n",
       "      <td>1849.0</td>\n",
       "      <td>0.6033</td>\n",
       "      <td>(1849.0/3065.0)</td>\n",
       "    </tr>\n",
       "    <tr>\n",
       "      <th>1</th>\n",
       "      <td>1</td>\n",
       "      <td>401.0</td>\n",
       "      <td>2664.0</td>\n",
       "      <td>0.1308</td>\n",
       "      <td>(401.0/3065.0)</td>\n",
       "    </tr>\n",
       "    <tr>\n",
       "      <th>2</th>\n",
       "      <td>Total</td>\n",
       "      <td>1617.0</td>\n",
       "      <td>4513.0</td>\n",
       "      <td>0.367</td>\n",
       "      <td>(2250.0/6130.0)</td>\n",
       "    </tr>\n",
       "  </tbody>\n",
       "</table>\n",
       "</div>"
      ],
      "text/plain": [
       "               0       1   Error              Rate\n",
       "0      0  1216.0  1849.0  0.6033   (1849.0/3065.0)\n",
       "1      1   401.0  2664.0  0.1308    (401.0/3065.0)\n",
       "2  Total  1617.0  4513.0   0.367   (2250.0/6130.0)"
      ]
     },
     "metadata": {},
     "output_type": "display_data"
    },
    {
     "name": "stdout",
     "output_type": "stream",
     "text": [
      "\n",
      "Maximum Metrics: Maximum metrics at their respective thresholds\n"
     ]
    },
    {
     "data": {
      "text/html": [
       "<div>\n",
       "<style scoped>\n",
       "    .dataframe tbody tr th:only-of-type {\n",
       "        vertical-align: middle;\n",
       "    }\n",
       "\n",
       "    .dataframe tbody tr th {\n",
       "        vertical-align: top;\n",
       "    }\n",
       "\n",
       "    .dataframe thead th {\n",
       "        text-align: right;\n",
       "    }\n",
       "</style>\n",
       "<table border=\"1\" class=\"dataframe\">\n",
       "  <thead>\n",
       "    <tr style=\"text-align: right;\">\n",
       "      <th></th>\n",
       "      <th>metric</th>\n",
       "      <th>threshold</th>\n",
       "      <th>value</th>\n",
       "      <th>idx</th>\n",
       "    </tr>\n",
       "  </thead>\n",
       "  <tbody>\n",
       "    <tr>\n",
       "      <th>0</th>\n",
       "      <td>max f1</td>\n",
       "      <td>0.339867</td>\n",
       "      <td>0.703088</td>\n",
       "      <td>62.0</td>\n",
       "    </tr>\n",
       "    <tr>\n",
       "      <th>1</th>\n",
       "      <td>max f2</td>\n",
       "      <td>0.208938</td>\n",
       "      <td>0.837266</td>\n",
       "      <td>78.0</td>\n",
       "    </tr>\n",
       "    <tr>\n",
       "      <th>2</th>\n",
       "      <td>max f0point5</td>\n",
       "      <td>0.563128</td>\n",
       "      <td>0.673454</td>\n",
       "      <td>40.0</td>\n",
       "    </tr>\n",
       "    <tr>\n",
       "      <th>3</th>\n",
       "      <td>max accuracy</td>\n",
       "      <td>0.500892</td>\n",
       "      <td>0.671289</td>\n",
       "      <td>46.0</td>\n",
       "    </tr>\n",
       "    <tr>\n",
       "      <th>4</th>\n",
       "      <td>max precision</td>\n",
       "      <td>0.872417</td>\n",
       "      <td>1.000000</td>\n",
       "      <td>0.0</td>\n",
       "    </tr>\n",
       "    <tr>\n",
       "      <th>5</th>\n",
       "      <td>max recall</td>\n",
       "      <td>0.138008</td>\n",
       "      <td>1.000000</td>\n",
       "      <td>90.0</td>\n",
       "    </tr>\n",
       "    <tr>\n",
       "      <th>6</th>\n",
       "      <td>max specificity</td>\n",
       "      <td>0.872417</td>\n",
       "      <td>1.000000</td>\n",
       "      <td>0.0</td>\n",
       "    </tr>\n",
       "    <tr>\n",
       "      <th>7</th>\n",
       "      <td>max absolute_mcc</td>\n",
       "      <td>0.500892</td>\n",
       "      <td>0.342611</td>\n",
       "      <td>46.0</td>\n",
       "    </tr>\n",
       "    <tr>\n",
       "      <th>8</th>\n",
       "      <td>max min_per_class_accuracy</td>\n",
       "      <td>0.500892</td>\n",
       "      <td>0.664274</td>\n",
       "      <td>46.0</td>\n",
       "    </tr>\n",
       "    <tr>\n",
       "      <th>9</th>\n",
       "      <td>max mean_per_class_accuracy</td>\n",
       "      <td>0.500892</td>\n",
       "      <td>0.671289</td>\n",
       "      <td>46.0</td>\n",
       "    </tr>\n",
       "    <tr>\n",
       "      <th>10</th>\n",
       "      <td>max tns</td>\n",
       "      <td>0.872417</td>\n",
       "      <td>3065.000000</td>\n",
       "      <td>0.0</td>\n",
       "    </tr>\n",
       "    <tr>\n",
       "      <th>11</th>\n",
       "      <td>max fns</td>\n",
       "      <td>0.872417</td>\n",
       "      <td>3061.000000</td>\n",
       "      <td>0.0</td>\n",
       "    </tr>\n",
       "    <tr>\n",
       "      <th>12</th>\n",
       "      <td>max fps</td>\n",
       "      <td>0.115015</td>\n",
       "      <td>3065.000000</td>\n",
       "      <td>95.0</td>\n",
       "    </tr>\n",
       "    <tr>\n",
       "      <th>13</th>\n",
       "      <td>max tps</td>\n",
       "      <td>0.138008</td>\n",
       "      <td>3065.000000</td>\n",
       "      <td>90.0</td>\n",
       "    </tr>\n",
       "    <tr>\n",
       "      <th>14</th>\n",
       "      <td>max tnr</td>\n",
       "      <td>0.872417</td>\n",
       "      <td>1.000000</td>\n",
       "      <td>0.0</td>\n",
       "    </tr>\n",
       "    <tr>\n",
       "      <th>15</th>\n",
       "      <td>max fnr</td>\n",
       "      <td>0.872417</td>\n",
       "      <td>0.998695</td>\n",
       "      <td>0.0</td>\n",
       "    </tr>\n",
       "    <tr>\n",
       "      <th>16</th>\n",
       "      <td>max fpr</td>\n",
       "      <td>0.115015</td>\n",
       "      <td>1.000000</td>\n",
       "      <td>95.0</td>\n",
       "    </tr>\n",
       "    <tr>\n",
       "      <th>17</th>\n",
       "      <td>max tpr</td>\n",
       "      <td>0.138008</td>\n",
       "      <td>1.000000</td>\n",
       "      <td>90.0</td>\n",
       "    </tr>\n",
       "  </tbody>\n",
       "</table>\n",
       "</div>"
      ],
      "text/plain": [
       "                         metric  threshold        value   idx\n",
       "0                        max f1   0.339867     0.703088  62.0\n",
       "1                        max f2   0.208938     0.837266  78.0\n",
       "2                  max f0point5   0.563128     0.673454  40.0\n",
       "3                  max accuracy   0.500892     0.671289  46.0\n",
       "4                 max precision   0.872417     1.000000   0.0\n",
       "5                    max recall   0.138008     1.000000  90.0\n",
       "6               max specificity   0.872417     1.000000   0.0\n",
       "7              max absolute_mcc   0.500892     0.342611  46.0\n",
       "8    max min_per_class_accuracy   0.500892     0.664274  46.0\n",
       "9   max mean_per_class_accuracy   0.500892     0.671289  46.0\n",
       "10                      max tns   0.872417  3065.000000   0.0\n",
       "11                      max fns   0.872417  3061.000000   0.0\n",
       "12                      max fps   0.115015  3065.000000  95.0\n",
       "13                      max tps   0.138008  3065.000000  90.0\n",
       "14                      max tnr   0.872417     1.000000   0.0\n",
       "15                      max fnr   0.872417     0.998695   0.0\n",
       "16                      max fpr   0.115015     1.000000  95.0\n",
       "17                      max tpr   0.138008     1.000000  90.0"
      ]
     },
     "metadata": {},
     "output_type": "display_data"
    },
    {
     "name": "stdout",
     "output_type": "stream",
     "text": [
      "\n",
      "Gains/Lift Table: Avg response rate: 50,00 %, avg score: 50,00 %\n"
     ]
    },
    {
     "data": {
      "text/html": [
       "<div>\n",
       "<style scoped>\n",
       "    .dataframe tbody tr th:only-of-type {\n",
       "        vertical-align: middle;\n",
       "    }\n",
       "\n",
       "    .dataframe tbody tr th {\n",
       "        vertical-align: top;\n",
       "    }\n",
       "\n",
       "    .dataframe thead th {\n",
       "        text-align: right;\n",
       "    }\n",
       "</style>\n",
       "<table border=\"1\" class=\"dataframe\">\n",
       "  <thead>\n",
       "    <tr style=\"text-align: right;\">\n",
       "      <th></th>\n",
       "      <th>group</th>\n",
       "      <th>cumulative_data_fraction</th>\n",
       "      <th>lower_threshold</th>\n",
       "      <th>lift</th>\n",
       "      <th>cumulative_lift</th>\n",
       "      <th>response_rate</th>\n",
       "      <th>score</th>\n",
       "      <th>cumulative_response_rate</th>\n",
       "      <th>cumulative_score</th>\n",
       "      <th>capture_rate</th>\n",
       "      <th>cumulative_capture_rate</th>\n",
       "      <th>gain</th>\n",
       "      <th>cumulative_gain</th>\n",
       "      <th>kolmogorov_smirnov</th>\n",
       "    </tr>\n",
       "  </thead>\n",
       "  <tbody>\n",
       "    <tr>\n",
       "      <th>0</th>\n",
       "      <td>1</td>\n",
       "      <td>0.010440</td>\n",
       "      <td>0.847344</td>\n",
       "      <td>1.843750</td>\n",
       "      <td>1.843750</td>\n",
       "      <td>0.921875</td>\n",
       "      <td>0.856671</td>\n",
       "      <td>0.921875</td>\n",
       "      <td>0.856671</td>\n",
       "      <td>0.019250</td>\n",
       "      <td>0.019250</td>\n",
       "      <td>84.375000</td>\n",
       "      <td>84.375000</td>\n",
       "      <td>0.017618</td>\n",
       "    </tr>\n",
       "    <tr>\n",
       "      <th>1</th>\n",
       "      <td>2</td>\n",
       "      <td>0.023328</td>\n",
       "      <td>0.830444</td>\n",
       "      <td>1.822785</td>\n",
       "      <td>1.832168</td>\n",
       "      <td>0.911392</td>\n",
       "      <td>0.837184</td>\n",
       "      <td>0.916084</td>\n",
       "      <td>0.845906</td>\n",
       "      <td>0.023491</td>\n",
       "      <td>0.042741</td>\n",
       "      <td>82.278481</td>\n",
       "      <td>83.216783</td>\n",
       "      <td>0.038825</td>\n",
       "    </tr>\n",
       "    <tr>\n",
       "      <th>2</th>\n",
       "      <td>3</td>\n",
       "      <td>0.031974</td>\n",
       "      <td>0.818370</td>\n",
       "      <td>1.547170</td>\n",
       "      <td>1.755102</td>\n",
       "      <td>0.773585</td>\n",
       "      <td>0.821718</td>\n",
       "      <td>0.877551</td>\n",
       "      <td>0.839365</td>\n",
       "      <td>0.013377</td>\n",
       "      <td>0.056117</td>\n",
       "      <td>54.716981</td>\n",
       "      <td>75.510204</td>\n",
       "      <td>0.048287</td>\n",
       "    </tr>\n",
       "    <tr>\n",
       "      <th>3</th>\n",
       "      <td>4</td>\n",
       "      <td>0.041599</td>\n",
       "      <td>0.812087</td>\n",
       "      <td>1.627119</td>\n",
       "      <td>1.725490</td>\n",
       "      <td>0.813559</td>\n",
       "      <td>0.812087</td>\n",
       "      <td>0.862745</td>\n",
       "      <td>0.833054</td>\n",
       "      <td>0.015661</td>\n",
       "      <td>0.071778</td>\n",
       "      <td>62.711864</td>\n",
       "      <td>72.549020</td>\n",
       "      <td>0.060359</td>\n",
       "    </tr>\n",
       "    <tr>\n",
       "      <th>4</th>\n",
       "      <td>5</td>\n",
       "      <td>0.055628</td>\n",
       "      <td>0.799022</td>\n",
       "      <td>1.720930</td>\n",
       "      <td>1.724340</td>\n",
       "      <td>0.860465</td>\n",
       "      <td>0.801945</td>\n",
       "      <td>0.862170</td>\n",
       "      <td>0.825208</td>\n",
       "      <td>0.024144</td>\n",
       "      <td>0.095922</td>\n",
       "      <td>72.093023</td>\n",
       "      <td>72.434018</td>\n",
       "      <td>0.080587</td>\n",
       "    </tr>\n",
       "    <tr>\n",
       "      <th>5</th>\n",
       "      <td>6</td>\n",
       "      <td>0.112561</td>\n",
       "      <td>0.763437</td>\n",
       "      <td>1.530086</td>\n",
       "      <td>1.626087</td>\n",
       "      <td>0.765043</td>\n",
       "      <td>0.776726</td>\n",
       "      <td>0.813043</td>\n",
       "      <td>0.800686</td>\n",
       "      <td>0.087113</td>\n",
       "      <td>0.183034</td>\n",
       "      <td>53.008596</td>\n",
       "      <td>62.608696</td>\n",
       "      <td>0.140946</td>\n",
       "    </tr>\n",
       "    <tr>\n",
       "      <th>6</th>\n",
       "      <td>7</td>\n",
       "      <td>0.150408</td>\n",
       "      <td>0.740096</td>\n",
       "      <td>1.448276</td>\n",
       "      <td>1.581345</td>\n",
       "      <td>0.724138</td>\n",
       "      <td>0.746262</td>\n",
       "      <td>0.790672</td>\n",
       "      <td>0.786992</td>\n",
       "      <td>0.054812</td>\n",
       "      <td>0.237847</td>\n",
       "      <td>44.827586</td>\n",
       "      <td>58.134490</td>\n",
       "      <td>0.174878</td>\n",
       "    </tr>\n",
       "    <tr>\n",
       "      <th>7</th>\n",
       "      <td>8</td>\n",
       "      <td>0.211419</td>\n",
       "      <td>0.706740</td>\n",
       "      <td>1.385027</td>\n",
       "      <td>1.524691</td>\n",
       "      <td>0.692513</td>\n",
       "      <td>0.717315</td>\n",
       "      <td>0.762346</td>\n",
       "      <td>0.766884</td>\n",
       "      <td>0.084502</td>\n",
       "      <td>0.322349</td>\n",
       "      <td>38.502674</td>\n",
       "      <td>52.469136</td>\n",
       "      <td>0.221860</td>\n",
       "    </tr>\n",
       "    <tr>\n",
       "      <th>8</th>\n",
       "      <td>9</td>\n",
       "      <td>0.301794</td>\n",
       "      <td>0.642813</td>\n",
       "      <td>1.328520</td>\n",
       "      <td>1.465946</td>\n",
       "      <td>0.664260</td>\n",
       "      <td>0.667914</td>\n",
       "      <td>0.732973</td>\n",
       "      <td>0.737247</td>\n",
       "      <td>0.120065</td>\n",
       "      <td>0.442414</td>\n",
       "      <td>32.851986</td>\n",
       "      <td>46.594595</td>\n",
       "      <td>0.281240</td>\n",
       "    </tr>\n",
       "    <tr>\n",
       "      <th>9</th>\n",
       "      <td>10</td>\n",
       "      <td>0.414029</td>\n",
       "      <td>0.573362</td>\n",
       "      <td>1.232558</td>\n",
       "      <td>1.402679</td>\n",
       "      <td>0.616279</td>\n",
       "      <td>0.604770</td>\n",
       "      <td>0.701340</td>\n",
       "      <td>0.701335</td>\n",
       "      <td>0.138336</td>\n",
       "      <td>0.580750</td>\n",
       "      <td>23.255814</td>\n",
       "      <td>40.267928</td>\n",
       "      <td>0.333442</td>\n",
       "    </tr>\n",
       "    <tr>\n",
       "      <th>10</th>\n",
       "      <td>11</td>\n",
       "      <td>0.507015</td>\n",
       "      <td>0.500892</td>\n",
       "      <td>1.049123</td>\n",
       "      <td>1.337838</td>\n",
       "      <td>0.524561</td>\n",
       "      <td>0.532228</td>\n",
       "      <td>0.668919</td>\n",
       "      <td>0.670321</td>\n",
       "      <td>0.097553</td>\n",
       "      <td>0.678303</td>\n",
       "      <td>4.912281</td>\n",
       "      <td>33.783784</td>\n",
       "      <td>0.342577</td>\n",
       "    </tr>\n",
       "    <tr>\n",
       "      <th>11</th>\n",
       "      <td>12</td>\n",
       "      <td>0.600816</td>\n",
       "      <td>0.428385</td>\n",
       "      <td>0.911304</td>\n",
       "      <td>1.271246</td>\n",
       "      <td>0.455652</td>\n",
       "      <td>0.457898</td>\n",
       "      <td>0.635623</td>\n",
       "      <td>0.637157</td>\n",
       "      <td>0.085481</td>\n",
       "      <td>0.763785</td>\n",
       "      <td>-8.869565</td>\n",
       "      <td>27.124627</td>\n",
       "      <td>0.325938</td>\n",
       "    </tr>\n",
       "    <tr>\n",
       "      <th>12</th>\n",
       "      <td>13</td>\n",
       "      <td>0.708809</td>\n",
       "      <td>0.358828</td>\n",
       "      <td>0.779456</td>\n",
       "      <td>1.196318</td>\n",
       "      <td>0.389728</td>\n",
       "      <td>0.388269</td>\n",
       "      <td>0.598159</td>\n",
       "      <td>0.599237</td>\n",
       "      <td>0.084176</td>\n",
       "      <td>0.847961</td>\n",
       "      <td>-22.054381</td>\n",
       "      <td>19.631761</td>\n",
       "      <td>0.278303</td>\n",
       "    </tr>\n",
       "    <tr>\n",
       "      <th>13</th>\n",
       "      <td>14</td>\n",
       "      <td>0.807178</td>\n",
       "      <td>0.294742</td>\n",
       "      <td>0.660033</td>\n",
       "      <td>1.130962</td>\n",
       "      <td>0.330017</td>\n",
       "      <td>0.321812</td>\n",
       "      <td>0.565481</td>\n",
       "      <td>0.565428</td>\n",
       "      <td>0.064927</td>\n",
       "      <td>0.912887</td>\n",
       "      <td>-33.996683</td>\n",
       "      <td>13.096200</td>\n",
       "      <td>0.211419</td>\n",
       "    </tr>\n",
       "    <tr>\n",
       "      <th>14</th>\n",
       "      <td>15</td>\n",
       "      <td>0.910114</td>\n",
       "      <td>0.230375</td>\n",
       "      <td>0.541997</td>\n",
       "      <td>1.064348</td>\n",
       "      <td>0.270998</td>\n",
       "      <td>0.259364</td>\n",
       "      <td>0.532174</td>\n",
       "      <td>0.530811</td>\n",
       "      <td>0.055791</td>\n",
       "      <td>0.968679</td>\n",
       "      <td>-45.800317</td>\n",
       "      <td>6.434845</td>\n",
       "      <td>0.117129</td>\n",
       "    </tr>\n",
       "    <tr>\n",
       "      <th>15</th>\n",
       "      <td>16</td>\n",
       "      <td>1.000000</td>\n",
       "      <td>0.115015</td>\n",
       "      <td>0.348457</td>\n",
       "      <td>1.000000</td>\n",
       "      <td>0.174229</td>\n",
       "      <td>0.188031</td>\n",
       "      <td>0.500000</td>\n",
       "      <td>0.500000</td>\n",
       "      <td>0.031321</td>\n",
       "      <td>1.000000</td>\n",
       "      <td>-65.154265</td>\n",
       "      <td>0.000000</td>\n",
       "      <td>0.000000</td>\n",
       "    </tr>\n",
       "  </tbody>\n",
       "</table>\n",
       "</div>"
      ],
      "text/plain": [
       "    group  cumulative_data_fraction  lower_threshold      lift  \\\n",
       "0       1                  0.010440         0.847344  1.843750   \n",
       "1       2                  0.023328         0.830444  1.822785   \n",
       "2       3                  0.031974         0.818370  1.547170   \n",
       "3       4                  0.041599         0.812087  1.627119   \n",
       "4       5                  0.055628         0.799022  1.720930   \n",
       "5       6                  0.112561         0.763437  1.530086   \n",
       "6       7                  0.150408         0.740096  1.448276   \n",
       "7       8                  0.211419         0.706740  1.385027   \n",
       "8       9                  0.301794         0.642813  1.328520   \n",
       "9      10                  0.414029         0.573362  1.232558   \n",
       "10     11                  0.507015         0.500892  1.049123   \n",
       "11     12                  0.600816         0.428385  0.911304   \n",
       "12     13                  0.708809         0.358828  0.779456   \n",
       "13     14                  0.807178         0.294742  0.660033   \n",
       "14     15                  0.910114         0.230375  0.541997   \n",
       "15     16                  1.000000         0.115015  0.348457   \n",
       "\n",
       "    cumulative_lift  response_rate     score  cumulative_response_rate  \\\n",
       "0          1.843750       0.921875  0.856671                  0.921875   \n",
       "1          1.832168       0.911392  0.837184                  0.916084   \n",
       "2          1.755102       0.773585  0.821718                  0.877551   \n",
       "3          1.725490       0.813559  0.812087                  0.862745   \n",
       "4          1.724340       0.860465  0.801945                  0.862170   \n",
       "5          1.626087       0.765043  0.776726                  0.813043   \n",
       "6          1.581345       0.724138  0.746262                  0.790672   \n",
       "7          1.524691       0.692513  0.717315                  0.762346   \n",
       "8          1.465946       0.664260  0.667914                  0.732973   \n",
       "9          1.402679       0.616279  0.604770                  0.701340   \n",
       "10         1.337838       0.524561  0.532228                  0.668919   \n",
       "11         1.271246       0.455652  0.457898                  0.635623   \n",
       "12         1.196318       0.389728  0.388269                  0.598159   \n",
       "13         1.130962       0.330017  0.321812                  0.565481   \n",
       "14         1.064348       0.270998  0.259364                  0.532174   \n",
       "15         1.000000       0.174229  0.188031                  0.500000   \n",
       "\n",
       "    cumulative_score  capture_rate  cumulative_capture_rate       gain  \\\n",
       "0           0.856671      0.019250                 0.019250  84.375000   \n",
       "1           0.845906      0.023491                 0.042741  82.278481   \n",
       "2           0.839365      0.013377                 0.056117  54.716981   \n",
       "3           0.833054      0.015661                 0.071778  62.711864   \n",
       "4           0.825208      0.024144                 0.095922  72.093023   \n",
       "5           0.800686      0.087113                 0.183034  53.008596   \n",
       "6           0.786992      0.054812                 0.237847  44.827586   \n",
       "7           0.766884      0.084502                 0.322349  38.502674   \n",
       "8           0.737247      0.120065                 0.442414  32.851986   \n",
       "9           0.701335      0.138336                 0.580750  23.255814   \n",
       "10          0.670321      0.097553                 0.678303   4.912281   \n",
       "11          0.637157      0.085481                 0.763785  -8.869565   \n",
       "12          0.599237      0.084176                 0.847961 -22.054381   \n",
       "13          0.565428      0.064927                 0.912887 -33.996683   \n",
       "14          0.530811      0.055791                 0.968679 -45.800317   \n",
       "15          0.500000      0.031321                 1.000000 -65.154265   \n",
       "\n",
       "    cumulative_gain  kolmogorov_smirnov  \n",
       "0         84.375000            0.017618  \n",
       "1         83.216783            0.038825  \n",
       "2         75.510204            0.048287  \n",
       "3         72.549020            0.060359  \n",
       "4         72.434018            0.080587  \n",
       "5         62.608696            0.140946  \n",
       "6         58.134490            0.174878  \n",
       "7         52.469136            0.221860  \n",
       "8         46.594595            0.281240  \n",
       "9         40.267928            0.333442  \n",
       "10        33.783784            0.342577  \n",
       "11        27.124627            0.325938  \n",
       "12        19.631761            0.278303  \n",
       "13        13.096200            0.211419  \n",
       "14         6.434845            0.117129  \n",
       "15         0.000000            0.000000  "
      ]
     },
     "metadata": {},
     "output_type": "display_data"
    },
    {
     "name": "stdout",
     "output_type": "stream",
     "text": [
      "\n",
      "\n",
      "Scoring History: \n"
     ]
    },
    {
     "data": {
      "text/html": [
       "<div>\n",
       "<style scoped>\n",
       "    .dataframe tbody tr th:only-of-type {\n",
       "        vertical-align: middle;\n",
       "    }\n",
       "\n",
       "    .dataframe tbody tr th {\n",
       "        vertical-align: top;\n",
       "    }\n",
       "\n",
       "    .dataframe thead th {\n",
       "        text-align: right;\n",
       "    }\n",
       "</style>\n",
       "<table border=\"1\" class=\"dataframe\">\n",
       "  <thead>\n",
       "    <tr style=\"text-align: right;\">\n",
       "      <th></th>\n",
       "      <th></th>\n",
       "      <th>timestamp</th>\n",
       "      <th>duration</th>\n",
       "      <th>iterations</th>\n",
       "      <th>negative_log_likelihood</th>\n",
       "      <th>objective</th>\n",
       "      <th>training_rmse</th>\n",
       "      <th>training_logloss</th>\n",
       "      <th>training_r2</th>\n",
       "      <th>training_auc</th>\n",
       "      <th>training_pr_auc</th>\n",
       "      <th>training_lift</th>\n",
       "      <th>training_classification_error</th>\n",
       "    </tr>\n",
       "  </thead>\n",
       "  <tbody>\n",
       "    <tr>\n",
       "      <th>0</th>\n",
       "      <td></td>\n",
       "      <td>2022-06-15 16:13:20</td>\n",
       "      <td>0.000 sec</td>\n",
       "      <td>0</td>\n",
       "      <td>4248.992217</td>\n",
       "      <td>0.693147</td>\n",
       "      <td></td>\n",
       "      <td></td>\n",
       "      <td></td>\n",
       "      <td></td>\n",
       "      <td></td>\n",
       "      <td></td>\n",
       "      <td></td>\n",
       "    </tr>\n",
       "    <tr>\n",
       "      <th>1</th>\n",
       "      <td></td>\n",
       "      <td>2022-06-15 16:13:21</td>\n",
       "      <td>0.056 sec</td>\n",
       "      <td>1</td>\n",
       "      <td>3748.115571</td>\n",
       "      <td>0.611655</td>\n",
       "      <td></td>\n",
       "      <td></td>\n",
       "      <td></td>\n",
       "      <td></td>\n",
       "      <td></td>\n",
       "      <td></td>\n",
       "      <td></td>\n",
       "    </tr>\n",
       "    <tr>\n",
       "      <th>2</th>\n",
       "      <td></td>\n",
       "      <td>2022-06-15 16:13:21</td>\n",
       "      <td>0.063 sec</td>\n",
       "      <td>2</td>\n",
       "      <td>3742.625506</td>\n",
       "      <td>0.610794</td>\n",
       "      <td></td>\n",
       "      <td></td>\n",
       "      <td></td>\n",
       "      <td></td>\n",
       "      <td></td>\n",
       "      <td></td>\n",
       "      <td></td>\n",
       "    </tr>\n",
       "    <tr>\n",
       "      <th>3</th>\n",
       "      <td></td>\n",
       "      <td>2022-06-15 16:13:21</td>\n",
       "      <td>0.070 sec</td>\n",
       "      <td>3</td>\n",
       "      <td>3742.613121</td>\n",
       "      <td>0.610793</td>\n",
       "      <td>0.459541</td>\n",
       "      <td>0.61054</td>\n",
       "      <td>0.15529</td>\n",
       "      <td>0.727031</td>\n",
       "      <td>0.716945</td>\n",
       "      <td>1.84375</td>\n",
       "      <td>0.367047</td>\n",
       "    </tr>\n",
       "  </tbody>\n",
       "</table>\n",
       "</div>"
      ],
      "text/plain": [
       "               timestamp    duration  iterations  negative_log_likelihood  \\\n",
       "0    2022-06-15 16:13:20   0.000 sec           0              4248.992217   \n",
       "1    2022-06-15 16:13:21   0.056 sec           1              3748.115571   \n",
       "2    2022-06-15 16:13:21   0.063 sec           2              3742.625506   \n",
       "3    2022-06-15 16:13:21   0.070 sec           3              3742.613121   \n",
       "\n",
       "   objective training_rmse training_logloss training_r2 training_auc  \\\n",
       "0   0.693147                                                           \n",
       "1   0.611655                                                           \n",
       "2   0.610794                                                           \n",
       "3   0.610793      0.459541          0.61054     0.15529     0.727031   \n",
       "\n",
       "  training_pr_auc training_lift training_classification_error  \n",
       "0                                                              \n",
       "1                                                              \n",
       "2                                                              \n",
       "3        0.716945       1.84375                      0.367047  "
      ]
     },
     "metadata": {},
     "output_type": "display_data"
    },
    {
     "name": "stdout",
     "output_type": "stream",
     "text": [
      "\n",
      "Variable Importances: \n"
     ]
    },
    {
     "data": {
      "text/html": [
       "<div>\n",
       "<style scoped>\n",
       "    .dataframe tbody tr th:only-of-type {\n",
       "        vertical-align: middle;\n",
       "    }\n",
       "\n",
       "    .dataframe tbody tr th {\n",
       "        vertical-align: top;\n",
       "    }\n",
       "\n",
       "    .dataframe thead th {\n",
       "        text-align: right;\n",
       "    }\n",
       "</style>\n",
       "<table border=\"1\" class=\"dataframe\">\n",
       "  <thead>\n",
       "    <tr style=\"text-align: right;\">\n",
       "      <th></th>\n",
       "      <th>variable</th>\n",
       "      <th>relative_importance</th>\n",
       "      <th>scaled_importance</th>\n",
       "      <th>percentage</th>\n",
       "    </tr>\n",
       "  </thead>\n",
       "  <tbody>\n",
       "    <tr>\n",
       "      <th>0</th>\n",
       "      <td>x</td>\n",
       "      <td>0.886423</td>\n",
       "      <td>1.0</td>\n",
       "      <td>1.0</td>\n",
       "    </tr>\n",
       "  </tbody>\n",
       "</table>\n",
       "</div>"
      ],
      "text/plain": [
       "  variable  relative_importance  scaled_importance  percentage\n",
       "0        x             0.886423                1.0         1.0"
      ]
     },
     "metadata": {},
     "output_type": "display_data"
    },
    {
     "data": {
      "text/plain": []
     },
     "execution_count": 46,
     "metadata": {},
     "output_type": "execute_result"
    }
   ],
   "source": [
    "model.train(predictors, dependent, training_frame=h2o_data)"
   ]
  },
  {
   "cell_type": "code",
   "execution_count": 49,
   "id": "721b7b92",
   "metadata": {},
   "outputs": [],
   "source": [
    "model.auc(valid=True)"
   ]
  },
  {
   "cell_type": "code",
   "execution_count": 64,
   "id": "5461fb00",
   "metadata": {},
   "outputs": [],
   "source": [
    "#model.predict()"
   ]
  },
  {
   "cell_type": "code",
   "execution_count": null,
   "id": "24274a42",
   "metadata": {},
   "outputs": [],
   "source": []
  }
 ],
 "metadata": {
  "kernelspec": {
   "display_name": "Python 3 (ipykernel)",
   "language": "python",
   "name": "python3"
  },
  "language_info": {
   "codemirror_mode": {
    "name": "ipython",
    "version": 3
   },
   "file_extension": ".py",
   "mimetype": "text/x-python",
   "name": "python",
   "nbconvert_exporter": "python",
   "pygments_lexer": "ipython3",
   "version": "3.9.7"
  }
 },
 "nbformat": 4,
 "nbformat_minor": 5
}
